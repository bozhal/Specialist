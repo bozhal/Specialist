{
 "cells": [
  {
   "cell_type": "markdown",
   "id": "6cd94267",
   "metadata": {},
   "source": [
    "Задача 2\n",
    "np.random.seed(5)  \n",
    "Дана матрица 4х3, со случайные целыми числами от 1 до 100:\n",
    "\n",
    "найти столбец в котором разница между мин и макс минимальна и удалить его"
   ]
  },
  {
   "cell_type": "code",
   "execution_count": 2,
   "id": "7edbd71d",
   "metadata": {},
   "outputs": [
    {
     "name": "stdout",
     "output_type": "stream",
     "text": [
      "[[ 2  7 61]\n",
      " [48 50 15]\n",
      " [23 17 58]\n",
      " [69 84 57]] \n",
      "\n",
      " [67 77 46]\n",
      "2\n",
      "[[ 2  7]\n",
      " [48 50]\n",
      " [23 17]\n",
      " [69 84]]\n"
     ]
    }
   ],
   "source": [
    "# Подсказки, что потребуется \n",
    "import numpy as np\n",
    "a2d = np.random.randint(1, 100, (4, 3))\n",
    "diff = np.max(a2d, axis=0) - np.min(a2d, axis=0) \n",
    "print(a2d, '\\n\\n', diff)\n",
    "min_el = np.argmin(diff) # flat индекс минимального элемента\n",
    "print(min_el)\n",
    "\n",
    "new_a2d = np.delete(a2d, min_el, axis = 1)\n",
    "print(new_a2d)"
   ]
  },
  {
   "cell_type": "code",
   "execution_count": null,
   "id": "d2cedc9a",
   "metadata": {},
   "outputs": [],
   "source": [
    "# Подсказки, что потребуется:\n",
    "# индекс в размерности массива\n",
    "np.unravel_index(np.argmin(a2d), a2d.shape)"
   ]
  },
  {
   "cell_type": "markdown",
   "id": "f9ac8b04",
   "metadata": {},
   "source": [
    "Задача 3. Решить задачу 2 для 3d массива\n",
    "Дополнение: вырезать прямоугольник, в котором находится нужный столбец, в глубину"
   ]
  },
  {
   "cell_type": "code",
   "execution_count": 3,
   "id": "3f134442",
   "metadata": {},
   "outputs": [],
   "source": [
    "np.random.seed(555)\n",
    "# a3d = np.random.randint(1, 100, (4, 3, 4))"
   ]
  },
  {
   "cell_type": "code",
   "execution_count": 21,
   "id": "516d341b",
   "metadata": {},
   "outputs": [],
   "source": [
    "ax_0 = np.min(a3d, axis=0) # по глубине\n",
    "ax_1 = np.min(a3d, axis=1) # по строкам\n",
    "ax_2 = np.min(a3d, axis=2) # по столбцам \n"
   ]
  }
 ],
 "metadata": {
  "kernelspec": {
   "display_name": "Python 3 (ipykernel)",
   "language": "python",
   "name": "python3"
  },
  "language_info": {
   "codemirror_mode": {
    "name": "ipython",
    "version": 3
   },
   "file_extension": ".py",
   "mimetype": "text/x-python",
   "name": "python",
   "nbconvert_exporter": "python",
   "pygments_lexer": "ipython3",
   "version": "3.11.5"
  }
 },
 "nbformat": 4,
 "nbformat_minor": 5
}
