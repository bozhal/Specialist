{
 "cells": [
  {
   "cell_type": "code",
   "execution_count": 2,
   "metadata": {},
   "outputs": [],
   "source": [
    "import numpy as np"
   ]
  },
  {
   "cell_type": "markdown",
   "metadata": {},
   "source": [
    "__Задача №1__\n",
    "\n",
    "Напишите функцию, которая находит сумму четных элементов на главной \n",
    "диагонали квадратной матрицы (именно чётных элементов, а не элементов на чётных позициях!). \n",
    "Если чётных элементов нет, то вывести 0"
   ]
  },
  {
   "cell_type": "code",
   "execution_count": 56,
   "metadata": {},
   "outputs": [
    {
     "name": "stdout",
     "output_type": "stream",
     "text": [
      "[[1 0 1 1 0 2 0 1 2 0]\n",
      " [1 1 2 1 2 2 1 0 1 2]\n",
      " [0 1 2 1 0 1 0 0 0 1]\n",
      " [2 2 0 0 1 2 2 1 1 1]\n",
      " [0 2 1 1 2 1 1 2 0 2]\n",
      " [1 1 2 2 1 0 2 0 1 2]\n",
      " [1 0 2 1 0 0 2 2 0 2]\n",
      " [1 0 1 2 2 0 2 1 1 0]\n",
      " [0 0 0 1 2 1 2 1 2 1]\n",
      " [2 2 1 0 2 2 0 1 2 1]]\n",
      "8\n"
     ]
    }
   ],
   "source": [
    "arr = np.random.randint(0, 3, (10, 10));\n",
    "print(arr)\n",
    "\n",
    "def main_even_sum(array: arr): \n",
    "    \"\"\" функция находит сумму четных элементов на главной диагонали квадратной матрицы \"\"\"\n",
    "    main = np.diagonal(arr)\n",
    "    main_even = main[ main % 2 == 0]\n",
    "    summa = sum(main_even)\n",
    "    return summa\n",
    "\n",
    "sample = main_even_sum(arr)\n",
    "print(sample)"
   ]
  },
  {
   "cell_type": "markdown",
   "metadata": {},
   "source": [
    "__Задача №2__\n",
    "\n",
    "Решить задачи при условии, что массив может быть любой размерности:\n",
    "\n",
    "2.1 Заменить максимальный элемент массива на 1000. (Повторяющихся максимальных элементов нет. Нужно создать такой 2d массив.)    \n",
    "2.2 Заменить минимальный элемент массива на 0. (Повторяющиеся минимальные элементы есть, поэтому нужно заменить все)"
   ]
  },
  {
   "cell_type": "code",
   "execution_count": 57,
   "metadata": {},
   "outputs": [
    {
     "name": "stdout",
     "output_type": "stream",
     "text": [
      "[ 1 12  5 12  2  3 12  8 12  9]\n"
     ]
    },
    {
     "data": {
      "text/plain": [
       "(array([ 1,  2,  3,  5,  8,  9, 12]),\n",
       " array([1, 1, 1, 1, 1, 1, 4], dtype=int64))"
      ]
     },
     "execution_count": 57,
     "metadata": {},
     "output_type": "execute_result"
    }
   ],
   "source": [
    "mas = np.random.randint(1, 15, 10)\n",
    "print(mas)\n",
    "nnp.unique(mas, return_counts=True)"
   ]
  },
  {
   "cell_type": "markdown",
   "metadata": {},
   "source": [
    "__Задача №3*__  \n",
    "\n",
    "С помощью numpy написать функцию для кодирования массива (Run-length encoding). \n",
    "Все подряд повторения элементов функция сжимает в один элемент и \n",
    "считает количество повторений. \n",
    "Функция возвращает кортеж из двух `numpy`-векторов одинаковой длины. \n",
    "Первый содержит элементы, а второй — сколько раз их нужно повторить.\n",
    "\n",
    "Пример: \n",
    "```\n",
    "In[1]: encode(np.array([1, 2, 2, 3, 3, 1, 1, 5, 5, 2, 3, 3])) \n",
    "Out[1]: (np.array([1, 2, 3, 1, 5, 2, 3]), np.array([1, 2, 2, 2, 2, 1, 2]))\n",
    "```"
   ]
  },
  {
   "cell_type": "code",
   "execution_count": null,
   "metadata": {},
   "outputs": [],
   "source": [
    "# Ваш код \n",
    "# Подсказка, что использовать:\n",
    "# diff() nonzero() where()"
   ]
  }
 ],
 "metadata": {
  "kernelspec": {
   "display_name": "Python 3 (ipykernel)",
   "language": "python",
   "name": "python3"
  },
  "language_info": {
   "codemirror_mode": {
    "name": "ipython",
    "version": 3
   },
   "file_extension": ".py",
   "mimetype": "text/x-python",
   "name": "python",
   "nbconvert_exporter": "python",
   "pygments_lexer": "ipython3",
   "version": "3.11.5"
  }
 },
 "nbformat": 4,
 "nbformat_minor": 4
}
