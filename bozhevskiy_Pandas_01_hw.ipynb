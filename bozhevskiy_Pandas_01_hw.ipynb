{
 "cells": [
  {
   "cell_type": "code",
   "execution_count": 76,
   "id": "1e9d31a2",
   "metadata": {},
   "outputs": [],
   "source": [
    "# Задание:\n",
    "# Задача №1. Создайте объект Series для хранения оценок по какому-либо предмету, например, по \"Линейной Алгебре\".\n",
    "# Пусть он содержит 10 студентов со случайными оценками от 2 до 5. Фамилии студентов должны быть индексами.\n",
    "import numpy as np\n",
    "import pandas as pd\n",
    "\n",
    "scores_la = np.random.randint(2, 5, (10))\n",
    "students = ['Иванов Мирон Миронович', 'Сергеева Мария Платоновна', 'Алексеев Матвей Александрович', 'Вавилова Александра Матвеевна', 'Григорьева Арина Павловна', 'Тихонова Варвара Тимофеевна', 'Тихомиров Платон Иванович', 'Лаптева Татьяна Владимировна', 'Киселева Зоя Артуровна', 'Шилов Дмитрий Алексеевич']; students\n",
    "ser_la = pd.Series ( scores_la, index = students)"
   ]
  },
  {
   "cell_type": "code",
   "execution_count": 33,
   "id": "c4512336",
   "metadata": {},
   "outputs": [
    {
     "data": {
      "text/plain": [
       "3.9"
      ]
     },
     "execution_count": 33,
     "metadata": {},
     "output_type": "execute_result"
    }
   ],
   "source": [
    "# Задача №2. Выведите средний балл для всех, у кого оценка больше или равна 3.\n",
    "round(np.mean(ser_la[ser_la >= 3]), 1)"
   ]
  },
  {
   "cell_type": "code",
   "execution_count": 80,
   "id": "96836e68",
   "metadata": {},
   "outputs": [
    {
     "data": {
      "text/html": [
       "<div>\n",
       "<style scoped>\n",
       "    .dataframe tbody tr th:only-of-type {\n",
       "        vertical-align: middle;\n",
       "    }\n",
       "\n",
       "    .dataframe tbody tr th {\n",
       "        vertical-align: top;\n",
       "    }\n",
       "\n",
       "    .dataframe thead th {\n",
       "        text-align: right;\n",
       "    }\n",
       "</style>\n",
       "<table border=\"1\" class=\"dataframe\">\n",
       "  <thead>\n",
       "    <tr style=\"text-align: right;\">\n",
       "      <th></th>\n",
       "      <th>Линейная Алгебра</th>\n",
       "      <th>Математический Анализ</th>\n",
       "      <th>средний балл</th>\n",
       "    </tr>\n",
       "    <tr>\n",
       "      <th>student</th>\n",
       "      <th></th>\n",
       "      <th></th>\n",
       "      <th></th>\n",
       "    </tr>\n",
       "  </thead>\n",
       "  <tbody>\n",
       "    <tr>\n",
       "      <th>Иванов Мирон Миронович</th>\n",
       "      <td>2</td>\n",
       "      <td>3</td>\n",
       "      <td>2.5</td>\n",
       "    </tr>\n",
       "    <tr>\n",
       "      <th>Сергеева Мария Платоновна</th>\n",
       "      <td>4</td>\n",
       "      <td>3</td>\n",
       "      <td>3.5</td>\n",
       "    </tr>\n",
       "    <tr>\n",
       "      <th>Алексеев Матвей Александрович</th>\n",
       "      <td>4</td>\n",
       "      <td>4</td>\n",
       "      <td>4.0</td>\n",
       "    </tr>\n",
       "    <tr>\n",
       "      <th>Вавилова Александра Матвеевна</th>\n",
       "      <td>4</td>\n",
       "      <td>3</td>\n",
       "      <td>3.5</td>\n",
       "    </tr>\n",
       "    <tr>\n",
       "      <th>Григорьева Арина Павловна</th>\n",
       "      <td>4</td>\n",
       "      <td>2</td>\n",
       "      <td>3.0</td>\n",
       "    </tr>\n",
       "    <tr>\n",
       "      <th>Тихонова Варвара Тимофеевна</th>\n",
       "      <td>2</td>\n",
       "      <td>2</td>\n",
       "      <td>2.0</td>\n",
       "    </tr>\n",
       "    <tr>\n",
       "      <th>Тихомиров Платон Иванович</th>\n",
       "      <td>2</td>\n",
       "      <td>2</td>\n",
       "      <td>2.0</td>\n",
       "    </tr>\n",
       "    <tr>\n",
       "      <th>Лаптева Татьяна Владимировна</th>\n",
       "      <td>2</td>\n",
       "      <td>2</td>\n",
       "      <td>2.0</td>\n",
       "    </tr>\n",
       "    <tr>\n",
       "      <th>Киселева Зоя Артуровна</th>\n",
       "      <td>2</td>\n",
       "      <td>2</td>\n",
       "      <td>2.0</td>\n",
       "    </tr>\n",
       "    <tr>\n",
       "      <th>Шилов Дмитрий Алексеевич</th>\n",
       "      <td>4</td>\n",
       "      <td>3</td>\n",
       "      <td>3.5</td>\n",
       "    </tr>\n",
       "  </tbody>\n",
       "</table>\n",
       "</div>"
      ],
      "text/plain": [
       "                               Линейная Алгебра  Математический Анализ  \\\n",
       "student                                                                  \n",
       "Иванов Мирон Миронович                        2                      3   \n",
       "Сергеева Мария Платоновна                     4                      3   \n",
       "Алексеев Матвей Александрович                 4                      4   \n",
       "Вавилова Александра Матвеевна                 4                      3   \n",
       "Григорьева Арина Павловна                     4                      2   \n",
       "Тихонова Варвара Тимофеевна                   2                      2   \n",
       "Тихомиров Платон Иванович                     2                      2   \n",
       "Лаптева Татьяна Владимировна                  2                      2   \n",
       "Киселева Зоя Артуровна                        2                      2   \n",
       "Шилов Дмитрий Алексеевич                      4                      3   \n",
       "\n",
       "                               средний балл  \n",
       "student                                      \n",
       "Иванов Мирон Миронович                  2.5  \n",
       "Сергеева Мария Платоновна               3.5  \n",
       "Алексеев Матвей Александрович           4.0  \n",
       "Вавилова Александра Матвеевна           3.5  \n",
       "Григорьева Арина Павловна               3.0  \n",
       "Тихонова Варвара Тимофеевна             2.0  \n",
       "Тихомиров Платон Иванович               2.0  \n",
       "Лаптева Татьяна Владимировна            2.0  \n",
       "Киселева Зоя Артуровна                  2.0  \n",
       "Шилов Дмитрий Алексеевич                3.5  "
      ]
     },
     "execution_count": 80,
     "metadata": {},
     "output_type": "execute_result"
    }
   ],
   "source": [
    "# Задача №3. Создайте другой объект Series, для хранения оценок по другому предмету, например по \"Математическому Анализу\".\n",
    "scores_ma = np.random.randint(2, 5, (10))\n",
    "ser_ma = pd.Series (scores_ma, index = students)\n",
    "\n",
    "# Посчитайте средний балл для каждого студента по этим двум предметам.\n",
    "ser_la_df = ser_la.to_frame (name='Линейная Алгебра')\n",
    "ser_la_df.index.rename('student', inplace= True )\n",
    "ser_ma_df = ser_ma.to_frame (name='Математический Анализ')\n",
    "ser_ma_df.index.rename('student', inplace= True )\n",
    "df = pd.merge(ser_la_df, ser_ma_df, on = 'student' ); df\n",
    "df['средний балл'] = ( df['Линейная Алгебра'] + df['Математический Анализ'] ) / 2; df"
   ]
  }
 ],
 "metadata": {
  "kernelspec": {
   "display_name": "Python 3 (ipykernel)",
   "language": "python",
   "name": "python3"
  },
  "language_info": {
   "codemirror_mode": {
    "name": "ipython",
    "version": 3
   },
   "file_extension": ".py",
   "mimetype": "text/x-python",
   "name": "python",
   "nbconvert_exporter": "python",
   "pygments_lexer": "ipython3",
   "version": "3.11.5"
  }
 },
 "nbformat": 4,
 "nbformat_minor": 5
}
